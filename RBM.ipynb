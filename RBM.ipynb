{
 "cells": [
  {
   "cell_type": "markdown",
   "metadata": {},
   "source": [
    "Implement from scratch an RBM and apply it to DSET3. The RBM should be implemented fully by you (both CD-1 training and inference steps) but you are free to use library functions for the rest (e.g. image loading and management, etc.).\n",
    "\n",
    "1.     Train an RBM with a number of hidden neurons selected by you (single layer) on the MNIST data (use the training set split provided by the website).\n",
    "\n",
    "2.     Use the trained RBM to encode a selection of test images (e.g. using one per digit type) using the corresponding activation of the hidden neurons.\n",
    "\n",
    "3.    Train a simple classifier (e.g. any simple classifier in scikit) to recognize the MNIST digits using as inputs their encoding obtained at step 2. Use the standard training/test split. Show a performance metric of your choice in the presentation/handout."
   ]
  },
  {
   "cell_type": "code",
   "execution_count": 24,
   "metadata": {},
   "outputs": [],
   "source": [
    "import keras\n",
    "import tensorflow\n",
    "import matplotlib.pyplot as plt\n",
    "import numpy as np"
   ]
  },
  {
   "cell_type": "code",
   "execution_count": 5,
   "metadata": {},
   "outputs": [
    {
     "name": "stdout",
     "output_type": "stream",
     "text": [
      "Downloading data from https://storage.googleapis.com/tensorflow/tf-keras-datasets/mnist.npz\n",
      "\u001b[1m11490434/11490434\u001b[0m \u001b[32m━━━━━━━━━━━━━━━━━━━━\u001b[0m\u001b[37m\u001b[0m \u001b[1m3s\u001b[0m 0us/step\n"
     ]
    }
   ],
   "source": [
    "\n",
    "from keras.datasets import mnist\n",
    "\n",
    "(Xtr, ytr), (Xts, yts) = mnist.load_data()\n",
    "     "
   ]
  },
  {
   "cell_type": "code",
   "execution_count": 61,
   "metadata": {},
   "outputs": [
    {
     "name": "stdout",
     "output_type": "stream",
     "text": [
      "(60000, 28, 28)\n",
      "(60000,)\n",
      "(10000, 28, 28)\n",
      "(10000,)\n"
     ]
    }
   ],
   "source": [
    "print(Xtr.shape)\n",
    "print(ytr.shape)\n",
    "print(Xts.shape)\n",
    "print(yts.shape)"
   ]
  },
  {
   "cell_type": "code",
   "execution_count": 62,
   "metadata": {},
   "outputs": [
    {
     "name": "stdout",
     "output_type": "stream",
     "text": [
      "0\n"
     ]
    }
   ],
   "source": [
    "print(ytr[1])"
   ]
  },
  {
   "cell_type": "code",
   "execution_count": 29,
   "metadata": {},
   "outputs": [
    {
     "data": {
      "text/plain": [
       "(28, 28)"
      ]
     },
     "execution_count": 29,
     "metadata": {},
     "output_type": "execute_result"
    }
   ],
   "source": [
    "first_image = Xtr[1,:,:]\n",
    "first_image.shape\n"
   ]
  },
  {
   "cell_type": "code",
   "execution_count": 30,
   "metadata": {},
   "outputs": [
    {
     "data": {
      "image/png": "[encoded data removed]",
      "text/plain": [
       "<Figure size 640x480 with 1 Axes>"
      ]
     },
     "metadata": {},
     "output_type": "display_data"
    }
   ],
   "source": [
    "plt.title('label')\n",
    "plt.imshow(first_image, cmap='gray')\n",
    "plt.show()\n"
   ]
  },
  {
   "cell_type": "code",
   "execution_count": null,
   "metadata": {},
   "outputs": [],
   "source": [
    "import numpy as np\n",
    "\n",
    "\n",
    "def logistic(x):  # logistic function to be used in the RBM computations\n",
    "    return 1.0 / (1 + np.exp(-x))\n",
    "  \n",
    "\n",
    "class RBM:  # definition of the Restricted Boltzmann Machine\n",
    "    def __init__(self, hidden_units, visible_units):  # initialization\n",
    "        self.nh = hidden_units  # hidden units of the RBM\n",
    "        self.nv = visible_units  # visible units of the RBM\n",
    "        self.weights = np.random.uniform(-1/self.nv, 1/self.nv, (self.nv, self.nh))  # random initialization for the weights\n",
    "        self.bias_h = np.zeros(self.nh)  # bias initialized to zero for each hidden unit\n",
    "        self.bias_v = np.zeros(self.nv)  # bias initialized to zero for each visible unit\n",
    "        print(\"Built a RBM with \" + str(self.nv) + \" visible units and \" + str(self.nh) + \" hidden units\")\n",
    "\n",
    "\n",
    "    def train(self, Xtr, epochs = 100, learning_rate = 0.1):  # CD-1 training algorithm\n",
    "        n = 6000  # batch size\n",
    "\n",
    "        print(\"Training on \" + str(n) + \" random elements for \" + str(epochs) + \" epochs\")\n",
    "        for epoch in range(epochs):\n",
    "            # Clamp data\n",
    "            idx = np.random.uniform(low = 0, high = Xtr.shape[0], size=n).astype(int)\n",
    "            cXtr = Xtr[idx,:]\n",
    "\n",
    "            # Wake phase\n",
    "            # Hidden probability\n",
    "            h_prob = logistic(np.dot(cXtr, self.weights) + self.bias_h)\n",
    "            wake = np.dot(cXtr.T, h_prob)\n",
    "\n",
    "            # Dream phase\n",
    "            # Hidden states\n",
    "            h_state = h_prob > np.random.rand(n, self.nh)\n",
    "            # Reconstruction probability\n",
    "            reconstruction_data_prob = logistic(np.dot(h_state, self.weights.T) + self.bias_v)\n",
    "            # Reconstructed data\n",
    "            reconstruction_data = reconstruction_data_prob > np.random.rand(n, self.nv)\n",
    "            h_neg_prob = logistic(np.dot(reconstruction_data, self.weights) + self.bias_h)\n",
    "            dream = np.dot(reconstruction_data.T, h_neg_prob)\n",
    "\n",
    "            # Learning phase\n",
    "            error = np.sum((cXtr - reconstruction_data)**2)/n\n",
    "            dW = (wake - dream)/n\n",
    "            dBh = (np.sum(h_prob) - np.sum(h_neg_prob))/n\n",
    "            dBv = (np.sum(cXtr) - np.sum(reconstruction_data))/n\n",
    "            self.weights += learning_rate*dW\n",
    "            self.bias_h += learning_rate*dBh\n",
    "            self.bias_v += learning_rate*dBv\n",
    "            print(\"\\rError:\\t\" + \"{:.5f}\".format(error), end=\"\")\n",
    "        print(\"\")\n",
    "\n",
    "\n",
    "    def get_hidden_activations(self, Xtr):  # for the inference process\n",
    "        n = Xtr.shape[0]\n",
    "\n",
    "        print(\"Computing hidden activations for \" + str(n) + \" elements\")\n",
    "        h_states = np.ones((n, self.nh))\n",
    "\n",
    "        h_prob = logistic(np.dot(Xtr, self.weights) + self.bias_h)\n",
    "        h_states[:,:] = h_prob > np.random.rand(n, self.nh)\n",
    "        return h_states"
   ]
  }
 ],
 "metadata": {
  "kernelspec": {
   "display_name": "Python 3",
   "language": "python",
   "name": "python3"
  },
  "language_info": {
   "codemirror_mode": {
    "name": "ipython",
    "version": 3
   },
   "file_extension": ".py",
   "mimetype": "text/x-python",
   "name": "python",
   "nbconvert_exporter": "python",
   "pygments_lexer": "ipython3",
   "version": "3.11.9"
  }
 },
 "nbformat": 4,
 "nbformat_minor": 2
}
