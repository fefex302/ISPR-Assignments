{
 "cells": [
  {
   "cell_type": "code",
   "execution_count": 16,
   "metadata": {},
   "outputs": [],
   "source": [
    "import torch\n",
    "import torch.nn as nn\n",
    "import torch.optim as optim\n",
    "from torch.utils.data import DataLoader\n",
    "\n",
    "class SimpleNN(nn.Module):\n",
    "    def __init__(self, input_size, hidden_size: list, num_classes):\n",
    "        super(SimpleNN, self).__init__()\n",
    "        self.structure = hidden_size\n",
    "        self.structure.insert(0,input_size)\n",
    "        self.structure.append(num_classes)\n",
    "        self.tanh = nn.Tanh()\n",
    "        self.layers = nn.ModuleList()\n",
    "        print(self.structure)\n",
    "\n",
    "        for i in range(len(self.structure)-1):\n",
    "            layer = nn.Linear(hidden_size[i],hidden_size[i+1])\n",
    "            nn.init.orthogonal_(layer.weight)\n",
    "            self.layers.append(layer)\n",
    "            \n",
    "\n",
    "    def forward(self, x):\n",
    "\n",
    "        for i, layer in enumerate(self.layers):\n",
    "            x = layer(x)\n",
    "            if i < len(self.layers) - 1:\n",
    "                x = self.tanh(x)\n",
    "\n",
    "        return x\n",
    "\n",
    "\n"
   ]
  },
  {
   "cell_type": "code",
   "execution_count": 13,
   "metadata": {},
   "outputs": [
    {
     "data": {
      "text/plain": [
       "(60000, 784)"
      ]
     },
     "execution_count": 13,
     "metadata": {},
     "output_type": "execute_result"
    }
   ],
   "source": [
    "from keras.datasets import mnist\n",
    "\n",
    "(Xtr, ytr), (Xts, yts) = mnist.load_data()\n",
    "Xtr_flat = Xtr.reshape(Xtr.shape[0],-1)\n",
    "Xts_flat = Xts.reshape(Xts.shape[0],-1)\n",
    "\n",
    "#i was having exploding gradient, so i normalized in this way\n",
    "Xts_flat = Xts_flat / 255\n",
    "Xtr_flat = Xtr_flat / 255\n",
    "\n",
    "Xtr_flat.shape"
   ]
  },
  {
   "cell_type": "code",
   "execution_count": 15,
   "metadata": {},
   "outputs": [
    {
     "name": "stdout",
     "output_type": "stream",
     "text": [
      "[784, 128, 64, 10]\n",
      "SimpleNN(\n",
      "  (tanh): Tanh()\n",
      "  (layers): ModuleList(\n",
      "    (0): Linear(in_features=784, out_features=128, bias=True)\n",
      "    (1): Linear(in_features=128, out_features=64, bias=True)\n",
      "    (2): Linear(in_features=64, out_features=10, bias=True)\n",
      "  )\n",
      ")\n"
     ]
    }
   ],
   "source": [
    "# Esempio di utilizzo della rete neurale definita\n",
    "input_size = 784  # Esempio: dimensione di un'immagine MNIST (28x28)\n",
    "hidden_sizes = [128, 64]  # Esempio: dimensioni degli strati nascosti\n",
    "num_classes = 10  # Esempio: classi nell'insieme di dati MNIST\n",
    "\n",
    "# Creazione dell'istanza della rete neurale\n",
    "model = SimpleNN(input_size, hidden_sizes, num_classes)\n",
    "print(model)"
   ]
  },
  {
   "cell_type": "code",
   "execution_count": 32,
   "metadata": {},
   "outputs": [
    {
     "name": "stderr",
     "output_type": "stream",
     "text": [
      "C:\\Users\\feder\\AppData\\Local\\Temp\\ipykernel_1480\\3106184907.py:6: UserWarning: To copy construct from a tensor, it is recommended to use sourceTensor.clone().detach() or sourceTensor.clone().detach().requires_grad_(True), rather than torch.tensor(sourceTensor).\n",
      "  Xtr_flat = torch.tensor(Xtr_flat)\n",
      "C:\\Users\\feder\\AppData\\Local\\Temp\\ipykernel_1480\\3106184907.py:9: UserWarning: To copy construct from a tensor, it is recommended to use sourceTensor.clone().detach() or sourceTensor.clone().detach().requires_grad_(True), rather than torch.tensor(sourceTensor).\n",
      "  train_tensor = TensorDataset(torch.tensor(Xtr_flat).to(torch.float), torch.tensor(ytr))\n"
     ]
    },
    {
     "name": "stdout",
     "output_type": "stream",
     "text": [
      "[1,   100] loss: 0.018\n",
      "[1,   200] loss: 0.024\n",
      "[1,   300] loss: 0.028\n",
      "[1,   400] loss: 0.027\n",
      "[1,   500] loss: 0.029\n",
      "[1,   600] loss: 0.022\n",
      "[2,   100] loss: 0.017\n",
      "[2,   200] loss: 0.015\n",
      "[2,   300] loss: 0.021\n",
      "[2,   400] loss: 0.019\n",
      "[2,   500] loss: 0.023\n",
      "[2,   600] loss: 0.017\n",
      "[3,   100] loss: 0.014\n",
      "[3,   200] loss: 0.013\n",
      "[3,   300] loss: 0.014\n",
      "[3,   400] loss: 0.015\n",
      "[3,   500] loss: 0.018\n",
      "[3,   600] loss: 0.014\n",
      "[4,   100] loss: 0.013\n",
      "[4,   200] loss: 0.010\n",
      "[4,   300] loss: 0.012\n",
      "[4,   400] loss: 0.013\n",
      "[4,   500] loss: 0.015\n",
      "[4,   600] loss: 0.019\n",
      "[5,   100] loss: 0.012\n",
      "[5,   200] loss: 0.018\n",
      "[5,   300] loss: 0.012\n",
      "[5,   400] loss: 0.013\n",
      "[5,   500] loss: 0.012\n",
      "[5,   600] loss: 0.010\n",
      "[6,   100] loss: 0.008\n",
      "[6,   200] loss: 0.012\n",
      "[6,   300] loss: 0.008\n",
      "[6,   400] loss: 0.009\n",
      "[6,   500] loss: 0.011\n",
      "[6,   600] loss: 0.008\n",
      "[7,   100] loss: 0.007\n",
      "[7,   200] loss: 0.008\n",
      "[7,   300] loss: 0.007\n",
      "[7,   400] loss: 0.007\n",
      "[7,   500] loss: 0.006\n",
      "[7,   600] loss: 0.008\n",
      "[8,   100] loss: 0.008\n",
      "[8,   200] loss: 0.007\n",
      "[8,   300] loss: 0.006\n",
      "[8,   400] loss: 0.006\n",
      "[8,   500] loss: 0.007\n",
      "[8,   600] loss: 0.006\n",
      "[9,   100] loss: 0.004\n",
      "[9,   200] loss: 0.005\n",
      "[9,   300] loss: 0.007\n",
      "[9,   400] loss: 0.006\n",
      "[9,   500] loss: 0.008\n",
      "[9,   600] loss: 0.008\n",
      "[10,   100] loss: 0.009\n",
      "[10,   200] loss: 0.008\n",
      "[10,   300] loss: 0.005\n",
      "[10,   400] loss: 0.006\n",
      "[10,   500] loss: 0.007\n",
      "[10,   600] loss: 0.006\n",
      "Training finito\n"
     ]
    }
   ],
   "source": [
    "from torch.utils.data import TensorDataset\n",
    "\n",
    "criterion = nn.CrossEntropyLoss()\n",
    "optimizer = optim.Adam(model.parameters(), lr=0.001)\n",
    "\n",
    "Xtr_flat = torch.tensor(Xtr_flat)\n",
    "torch.tensor(ytr)\n",
    "\n",
    "train_tensor = TensorDataset(torch.tensor(Xtr_flat).to(torch.float), torch.tensor(ytr))\n",
    "\n",
    "train_dataloader = DataLoader(train_tensor, batch_size=100, shuffle=False)\n",
    "\n",
    "# Addestramento della rete\n",
    "num_epochs = 10\n",
    "model = model.to(torch.float)\n",
    "\n",
    "for epoch in range(num_epochs):\n",
    "    running_loss = 0.0\n",
    "    for i, data in enumerate(train_dataloader):  # train_dataloader è il DataLoader per il set di addestramento        \n",
    "        inputs,labels = data\n",
    "        \n",
    "        # Azzerare i gradienti\n",
    "        \n",
    "        # Passaggio in avanti (forward pass)\n",
    "        outputs = model(inputs)\n",
    "       \n",
    "        optimizer.zero_grad()\n",
    "        # Calcolare la loss\n",
    "        loss = criterion(outputs, labels)\n",
    "        \n",
    "        # Backpropagation e ottimizzazione\n",
    "        loss.backward()\n",
    "        optimizer.step()\n",
    "        \n",
    "        running_loss += loss.item()\n",
    "        if i % 100 == 99:    # Stampa della loss ogni 100 mini-batch\n",
    "            print('[%d, %5d] loss: %.3f' %\n",
    "                  (epoch + 1, i + 1, running_loss / 100))\n",
    "            running_loss = 0.0\n",
    "\n",
    "print('Training finito')"
   ]
  },
  {
   "cell_type": "code",
   "execution_count": null,
   "metadata": {},
   "outputs": [],
   "source": []
  },
  {
   "cell_type": "code",
   "execution_count": 8,
   "metadata": {},
   "outputs": [
    {
     "name": "stdout",
     "output_type": "stream",
     "text": [
      "[10, 100, 3]\n",
      "SimpleNN(\n",
      "  (tanh): Tanh()\n",
      "  (layers): ModuleList(\n",
      "    (0): Linear(in_features=10, out_features=100, bias=True)\n",
      "    (1): Linear(in_features=100, out_features=3, bias=True)\n",
      "  )\n",
      ")\n"
     ]
    }
   ],
   "source": [
    "NN = SimpleNN(input_size=10,hidden_size=[100],num_classes=3)\n",
    "print(NN)"
   ]
  },
  {
   "cell_type": "code",
   "execution_count": 3,
   "metadata": {},
   "outputs": [
    {
     "name": "stdout",
     "output_type": "stream",
     "text": [
      "[1, 2, 3, 4, 5]\n"
     ]
    }
   ],
   "source": [
    "my_list = [2, 3, 4, 5]\n",
    "element = 1\n",
    "my_list.insert(0, element)\n",
    "print(my_list)  # Output: [1, 2, 3, 4, 5]\n"
   ]
  }
 ],
 "metadata": {
  "kernelspec": {
   "display_name": "Python 3",
   "language": "python",
   "name": "python3"
  },
  "language_info": {
   "codemirror_mode": {
    "name": "ipython",
    "version": 3
   },
   "file_extension": ".py",
   "mimetype": "text/x-python",
   "name": "python",
   "nbconvert_exporter": "python",
   "pygments_lexer": "ipython3",
   "version": "3.10.2"
  }
 },
 "nbformat": 4,
 "nbformat_minor": 2
}
